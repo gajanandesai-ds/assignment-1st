{
 "cells": [
  {
   "cell_type": "raw",
   "id": "ddda79cf",
   "metadata": {},
   "source": [
    "1. In the below elements which of them are values or expression? eg.:- values can be integer or string and expressons will be mathematical operators.?\n",
    "*\n",
    "\"hello\"\n",
    "-87.8\n",
    "-\n",
    "/\n",
    "+\n",
    "6\n",
    "Ans: expression: + , - , + , /\n",
    "     values:  -87.8 , 6 , \"hello\""
   ]
  },
  {
   "cell_type": "code",
   "execution_count": null,
   "id": "4b816035",
   "metadata": {},
   "outputs": [],
   "source": [
    "2. what is the differnce between string and variable?\n",
    "Ans:String always start and end with quotes.\n",
    "    A variable can hold a string but a string cannot hold a variable.\n",
    "    A variable is basically the name of the location in the primary of your computer.\n",
    "    This can be chosen by you. a variable can store everything from string to number."
   ]
  },
  {
   "cell_type": "code",
   "execution_count": null,
   "id": "c59d4e9a",
   "metadata": {},
   "outputs": [],
   "source": [
    "3. Describe three different data type?\n",
    "Ans: Integer\n",
    "     Ex.(5678 ) used for  whole number.\n",
    "     Floats\n",
    "     Ex. 3.3425 it shows decimal number\n",
    "     Booleans\n",
    "     Ex. True, False it shows Truth values that represent Yes/ No "
   ]
  },
  {
   "cell_type": "code",
   "execution_count": null,
   "id": "abaa0653",
   "metadata": {},
   "outputs": [],
   "source": [
    "4. What is an expression made up of? what do all expressions do?\n",
    "Ans: An expression is a combination of value and operators.\n",
    "     All expressions evalutes(that is,reduce) to a single value . \n",
    "     A statement is every other instruction that combines  values\n",
    "     and operators and always evalutes down to a single value."
   ]
  },
  {
   "cell_type": "raw",
   "id": "159cfc45",
   "metadata": {},
   "source": [
    "5. This assignment statements, like spam=10. what is the differnce between an expression and a statment?\n",
    "Ans. An expression evalutes to a single value. A statement does not."
   ]
  },
  {
   "cell_type": "code",
   "execution_count": null,
   "id": "262e7df9",
   "metadata": {},
   "outputs": [],
   "source": [
    "6. After running the following code, what does the variable bacon contain? \n",
    "   bacon = 22\n",
    "   bacon+1\n",
    "Ans : The bacon variable is set to 22. The bacon+1 expression does not reassign the value in bacon\n",
    "    (that would need an assignment statement: bacon=bacon+1)"
   ]
  },
  {
   "cell_type": "code",
   "execution_count": null,
   "id": "2ef6fda7",
   "metadata": {},
   "outputs": [],
   "source": [
    "7. what should the value of the following two terms be?\n",
    "  'spam'+ 'spamspam'\n",
    "  'spam'*3\n",
    "Ans: both expressions evalutes to the string 'spamspamspam'."
   ]
  },
  {
   "cell_type": "code",
   "execution_count": null,
   "id": "766f8790",
   "metadata": {},
   "outputs": [],
   "source": [
    "8. why is eggs a valid variable name while 100 is invalid?\n",
    "Ans: Variable names cannot begins with a number."
   ]
  },
  {
   "cell_type": "code",
   "execution_count": null,
   "id": "a039ddce",
   "metadata": {},
   "outputs": [],
   "source": [
    "9. what three functions can be used to get integer, Floting-points number, or string version of a value?\n",
    "Ans: the int(), Float(), str(), function will evalutes to the integer,floting-point number,\n",
    "    and string value versions of the value passed to them."
   ]
  },
  {
   "cell_type": "code",
   "execution_count": null,
   "id": "e9880684",
   "metadata": {},
   "outputs": [],
   "source": [
    "10. why does this expression cause an error? How can you fix it?\n",
    "    'I have eaten '+99+'burritos.'\n",
    "Ans: The expression causes and error because 99 is an integer, and only strings can be concatenated to\n",
    "     other strings with the + operator the coreeec way is 'i have eaten'+str(99)+'burritos.'"
   ]
  },
  {
   "cell_type": "code",
   "execution_count": 5,
   "id": "3d6b5725",
   "metadata": {},
   "outputs": [],
   "source": []
  },
  {
   "cell_type": "code",
   "execution_count": null,
   "id": "2ab62fda",
   "metadata": {},
   "outputs": [],
   "source": []
  }
 ],
 "metadata": {
  "kernelspec": {
   "display_name": "Python 3",
   "language": "python",
   "name": "python3"
  },
  "language_info": {
   "codemirror_mode": {
    "name": "ipython",
    "version": 3
   },
   "file_extension": ".py",
   "mimetype": "text/x-python",
   "name": "python",
   "nbconvert_exporter": "python",
   "pygments_lexer": "ipython3",
   "version": "3.8.8"
  }
 },
 "nbformat": 4,
 "nbformat_minor": 5
}
